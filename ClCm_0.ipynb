{
 "cells": [
  {
   "cell_type": "markdown",
   "id": "8fdc9a8c-c5b8-46d8-adca-0f2bcbadd488",
   "metadata": {},
   "source": [
    "**Running a competition between all ML Classification algorithms in scikit-learn.**"
   ]
  },
  {
   "cell_type": "markdown",
   "id": "c19e0de1-5bbd-478d-958c-232bc0863b00",
   "metadata": {},
   "source": [
    "1. import libraries, and check their version."
   ]
  },
  {
   "cell_type": "code",
   "execution_count": 4,
   "id": "ff641ac5-0e5a-4134-9d87-b2f3b18aed12",
   "metadata": {},
   "outputs": [
    {
     "name": "stdout",
     "output_type": "stream",
     "text": [
      "Numpy version: 2.3.3\n",
      "Pandas version: 2.3.3\n",
      "Scikit-learn version: 1.7.2\n",
      "Seaborn version: 0.13.2\n"
     ]
    }
   ],
   "source": [
    "import numpy as np\n",
    "import pandas as pd\n",
    "import sklearn\n",
    "import matplotlib.pyplot as plt\n",
    "import seaborn as sns\n",
    "\n",
    "print(\"Numpy version:\", np.__version__)\n",
    "print(\"Pandas version:\", pd.__version__)\n",
    "print(\"Scikit-learn version:\", sklearn.__version__)\n",
    "#print(\"Matplotlib version:\", plt.__version__)\n",
    "print(\"Seaborn version:\", sns.__version__)"
   ]
  },
  {
   "cell_type": "markdown",
   "id": "61df1df2-5142-47c7-99c3-71f6b5bdfea5",
   "metadata": {},
   "source": []
  },
  {
   "cell_type": "code",
   "execution_count": null,
   "id": "fe315c50-1d6f-438c-9f26-c584edb8c033",
   "metadata": {},
   "outputs": [],
   "source": []
  }
 ],
 "metadata": {
  "kernelspec": {
   "display_name": "python (classification_env)",
   "language": "python",
   "name": "classification_env"
  },
  "language_info": {
   "codemirror_mode": {
    "name": "ipython",
    "version": 3
   },
   "file_extension": ".py",
   "mimetype": "text/x-python",
   "name": "python",
   "nbconvert_exporter": "python",
   "pygments_lexer": "ipython3",
   "version": "3.12.0"
  }
 },
 "nbformat": 4,
 "nbformat_minor": 5
}
